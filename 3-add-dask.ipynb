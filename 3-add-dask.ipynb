{
 "cells": [
  {
   "cell_type": "code",
   "execution_count": null,
   "metadata": {},
   "outputs": [],
   "source": [
    "import numba\n",
    "import numpy as np\n",
    "\n",
    "def gather_from_detector():\n",
    "    return np.random.random((1000, 1000))\n",
    "\n",
    "@numba.jit\n",
    "def smooth(x):\n",
    "    out = np.empty_like(x)\n",
    "    for i in range(1, x.shape[0] - 1):\n",
    "        for j in range(1, x.shape[1] - 1):\n",
    "            out[i, j] = (x[i + -1, j + -1] + x[i + -1, j + 0] + x[i + -1, j + 1] +\n",
    "                         x[i +  0, j + -1] + x[i +  0, j + 0] + x[i +  0, j + 1] +\n",
    "                         x[i +  1, j + -1] + x[i +  1, j + 0] + x[i +  1, j + 1]) // 9\n",
    "\n",
    "    return out\n",
    "\n",
    "def save(x, filename):\n",
    "    pass"
   ]
  },
  {
   "cell_type": "code",
   "execution_count": null,
   "metadata": {},
   "outputs": [],
   "source": [
    "from dask.distributed import LocalCluster, Client, fire_and_forget\n",
    "\n",
    "cluster = LocalCluster()\n",
    "client = Client(cluster)\n",
    "client"
   ]
  },
  {
   "cell_type": "code",
   "execution_count": null,
   "metadata": {},
   "outputs": [],
   "source": [
    "for i in range(100):\n",
    "    img = client.submit(gather_from_detector, pure=False)\n",
    "    img = client.submit(smooth, img)\n",
    "    img = client.submit(np.fft.fft2, img)\n",
    "    future = client.submit(save, img, \"file-\" + str(i) + \"-.dat\")\n",
    "    fire_and_forget(future)"
   ]
  },
  {
   "cell_type": "code",
   "execution_count": null,
   "metadata": {},
   "outputs": [],
   "source": [
    "import asyncio\n",
    "\n",
    "async def gather():\n",
    "    while True:\n",
    "        img = client.submit(gather_from_detector, pure=False)\n",
    "        img = client.submit(smooth, img)\n",
    "        img = client.submit(np.fft.fft2, img)\n",
    "        future = client.submit(save, img, \"file-\" + str(i) + \"-.dat\")\n",
    "        fire_and_forget(future)\n",
    "        await asyncio.sleep(0.01)\n",
    "        \n",
    "asyncio.ensure_future(gather())"
   ]
  },
  {
   "cell_type": "code",
   "execution_count": null,
   "metadata": {},
   "outputs": [],
   "source": [
    "cluster.scale(6)"
   ]
  }
 ],
 "metadata": {
  "kernelspec": {
   "display_name": "Python 3",
   "language": "python",
   "name": "python3"
  },
  "language_info": {
   "codemirror_mode": {
    "name": "ipython",
    "version": 3
   },
   "file_extension": ".py",
   "mimetype": "text/x-python",
   "name": "python",
   "nbconvert_exporter": "python",
   "pygments_lexer": "ipython3",
   "version": "3.7.4"
  }
 },
 "nbformat": 4,
 "nbformat_minor": 4
}
